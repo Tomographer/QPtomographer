{
 "cells": [
  {
   "cell_type": "code",
   "execution_count": 1,
   "metadata": {},
   "outputs": [
    {
     "name": "stdout",
     "output_type": "stream",
     "text": [
      "Using dnormtomo version 0.9\n",
      "Using tomographer version v5.3-63-gc51c26e\n"
     ]
    }
   ],
   "source": [
    "import os.path\n",
    "import sys\n",
    "import datetime\n",
    "\n",
    "import numpy as np\n",
    "import matplotlib.pyplot as plt\n",
    "\n",
    "import dnormtomo\n",
    "import dnormtomo.channelspace\n",
    "import dnormtomo.bistates\n",
    "import dnormtomo.util\n",
    "print(\"Using dnormtomo version {}\".format(dnormtomo.__version__))\n",
    "\n",
    "import qutip\n",
    "\n",
    "import tomographer\n",
    "import tomographer.jpyutil\n",
    "import tomographer.querrorbars\n",
    "print(\"Using tomographer version {}\".format(tomographer.__version__))\n",
    "\n",
    "# to save & load computation results\n",
    "try:\n",
    "    import cPickle as pickle\n",
    "except:\n",
    "    import pickle\n",
    "\n",
    "# interact with plots in notebook\n",
    "%matplotlib notebook"
   ]
  },
  {
   "cell_type": "code",
   "execution_count": 2,
   "metadata": {},
   "outputs": [],
   "source": [
    "#\n",
    "# number of outcomes per Pauli pairs\n",
    "#\n",
    "NumSamplesPerSetting = 500\n",
    "# Pauli measurement settings on one system\n",
    "PauliMeasSettings = [\n",
    "    [\n",
    "        dnormtomo.util.projpauli(i, s)\n",
    "        for s in [1, -1]\n",
    "    ]\n",
    "    for i in [1, 2, 3]\n",
    "]\n",
    "# simulate the measurements\n",
    "sigmareal_X = qutip.Qobj(np.array([[ 0.6, 0.01], [0.01, 0.4]]))\n",
    "Ereal_XY = qutip.Qobj(np.array([[ 0.95, 0, 0, 0.95],\n",
    "                                [ 0, 0.05, 0, 0],\n",
    "                                [ 0, 0,    0, 0],\n",
    "                                [ 0.95, 0, 0, 1],\n",
    "                               ]), dims=[[2,2],[2,2]])\n",
    "def simulate_measurements():\n",
    "    d = dnormtomo.util.simulate_process_measurements(sigmareal_X, Ereal_XY, PauliMeasSettings, PauliMeasSettings,\n",
    "                                                     NumSamplesPerSetting)\n",
    "    \n",
    "    with open('meas_data.dat', 'wb') as f:\n",
    "        pickle.dump(d, f)\n",
    "        \n",
    "    return d\n",
    "\n",
    "#\n",
    "# Only simulate the measurements once. After that, use the same data when comparing methods!!\n",
    "#\n",
    "if not os.path.exists('meas_data.dat'):\n",
    "    d = simulate_measurements()\n",
    "else:\n",
    "    with open('meas_data.dat', 'rb') as f:\n",
    "        d = pickle.load(f)\n",
    "\n",
    "#print(d.__dict__) # should print Emn, Nm"
   ]
  },
  {
   "cell_type": "code",
   "execution_count": 3,
   "metadata": {},
   "outputs": [],
   "source": [
    "#\n",
    "# Stuff for the analysis, later\n",
    "#\n",
    "def print_report(r):\n",
    "    print(\"Calculation ran for {!s} seconds\".format(datetime.timedelta(seconds=r['elapsed_seconds'])))\n",
    "    print(r['final_report_runs'])\n",
    "\n",
    "def do_analysis(r, name, plots=False, ftox=(0,1)):\n",
    "    final_histogram = r['final_histogram']\n",
    "    analysis = tomographer.querrorbars.HistogramAnalysis(final_histogram, threshold_fraction=1e-3, ftox=ftox)\n",
    "    fitparams = analysis.printFitParameters()\n",
    "    analysis.printQuantumErrorBars()\n",
    "    \n",
    "    p1 = None\n",
    "    p2 = None\n",
    "    \n",
    "    if plots:\n",
    "        p1 = analysis.plot(show_plot=False) # linear scale\n",
    "        p1.ax.set_title(\"Distribution of the diamond norm: \" + name)\n",
    "        p1.ax.set_xlabel('Diamond Norm distance to the identity channel')\n",
    "        p1.show()\n",
    "\n",
    "        p2 = analysis.plot(log_scale=True, show_plot=False) # log scale\n",
    "        p2.ax.set_title(\"Distribution of the diamond norm: \" + name)\n",
    "        p2.ax.set_xlabel('Diamond Norm distance to the identity channel')\n",
    "        p2.show()\n",
    "    \n",
    "    return {'r': r, 'name': name, 'analysis': analysis, 'fitparams': fitparams, 'p1': p1, 'p2': p2}\n"
   ]
  },
  {
   "cell_type": "markdown",
   "metadata": {},
   "source": [
    "# Naive method"
   ]
  },
  {
   "cell_type": "code",
   "execution_count": null,
   "metadata": {
    "scrolled": false
   },
   "outputs": [
    {
     "data": {
      "application/vnd.jupyter.widget-view+json": {
       "model_id": "9f101d96f59548f683ac00f290b23180",
       "version_major": 2,
       "version_minor": 0
      },
      "text/html": [
       "<p>Failed to display Jupyter Widget of type <code>VBox</code>.</p>\n",
       "<p>\n",
       "  If you're reading this message in the Jupyter Notebook or JupyterLab Notebook, it may mean\n",
       "  that the widgets JavaScript is still loading. If this message persists, it\n",
       "  likely means that the widgets JavaScript library is either not installed or\n",
       "  not enabled. See the <a href=\"https://ipywidgets.readthedocs.io/en/stable/user_install.html\">Jupyter\n",
       "  Widgets Documentation</a> for setup instructions.\n",
       "</p>\n",
       "<p>\n",
       "  If you're reading this message in another frontend (for example, a static\n",
       "  rendering on GitHub or <a href=\"https://nbviewer.jupyter.org/\">NBViewer</a>),\n",
       "  it may mean that your frontend doesn't currently support widgets.\n",
       "</p>\n"
      ],
      "text/plain": [
       "VBox(children=(HBox(children=(HTML(value='<span style=\"padding-right: 1em;\">Random Walk Progress: </span>'), IntProgress(value=0), HTML(value=''))), HTML(value='')))"
      ]
     },
     "metadata": {},
     "output_type": "display_data"
    }
   ],
   "source": [
    "r_naive = None\n",
    "with tomographer.jpyutil.RandWalkProgressBar() as prg:\n",
    "    r_naive = dnormtomo.bistates.run(\n",
    "        dimX=2, dimY=2, Emn=d.Emn, Nm=np.array(d.Nm),\n",
    "        hist_params=tomographer.HistogramParams(0, 0.2, 50),\n",
    "        mhrw_params=tomographer.MHRWParams(0.008, 125, 2048, 32768),\n",
    "        progress_fn=prg.progress_fn\n",
    "        )\n",
    "    prg.displayFinalInfo(r_naive['final_report_runs'])\n",
    "print_report(r_naive)"
   ]
  },
  {
   "cell_type": "code",
   "execution_count": null,
   "metadata": {},
   "outputs": [],
   "source": [
    "a_naive = do_analysis(r_naive, 'Naive')"
   ]
  },
  {
   "cell_type": "markdown",
   "metadata": {},
   "source": [
    "# Naive method, optimized"
   ]
  },
  {
   "cell_type": "code",
   "execution_count": null,
   "metadata": {
    "scrolled": true
   },
   "outputs": [],
   "source": [
    "r_naiveopt = None\n",
    "with tomographer.jpyutil.RandWalkProgressBar() as prg:\n",
    "    r_naiveopt = dnormtomo.bistates.run(\n",
    "        dimX=2, dimY=2, Emn=d.Emn, Nm=np.array(d.Nm),\n",
    "        hist_params=tomographer.HistogramParams(0, 0.2, 50),\n",
    "        mhrw_params=tomographer.MHRWParams(0.008, 512, 32768, 32768), # thermalize a lot\n",
    "        progress_fn=prg.progress_fn,\n",
    "        jumps_method='light' # use optimized random walk\n",
    "        )\n",
    "    prg.displayFinalInfo(r_naiveopt['final_report_runs'])\n",
    "print_report(r_naiveopt)"
   ]
  },
  {
   "cell_type": "code",
   "execution_count": null,
   "metadata": {
    "scrolled": true
   },
   "outputs": [],
   "source": [
    "a_naiveopt = do_analysis(r_naiveopt, 'Naive, opt.')"
   ]
  },
  {
   "cell_type": "markdown",
   "metadata": {},
   "source": [
    "# Naive method, optimized, entanglement fidelity"
   ]
  },
  {
   "cell_type": "code",
   "execution_count": null,
   "metadata": {
    "scrolled": true
   },
   "outputs": [],
   "source": [
    "r_Fe_naiveopt = None\n",
    "with tomographer.jpyutil.RandWalkProgressBar() as prg:\n",
    "    r_Fe_naiveopt = dnormtomo.bistates.run(\n",
    "        dimX=2, dimY=2, Emn=d.Emn, Nm=np.array(d.Nm),\n",
    "        fig_of_merit='entanglement-fidelity',\n",
    "        hist_params=tomographer.HistogramParams(0.9, 1.0, 50),\n",
    "        mhrw_params=tomographer.MHRWParams(0.008, 512, 32768, 32768), # thermalize a lot\n",
    "        progress_fn=prg.progress_fn,\n",
    "        jumps_method='light' # use optimized random walk\n",
    "        )\n",
    "    prg.displayFinalInfo(r_Fe_naiveopt['final_report_runs'])\n",
    "print_report(r_Fe_naiveopt)"
   ]
  },
  {
   "cell_type": "code",
   "execution_count": null,
   "metadata": {
    "scrolled": true
   },
   "outputs": [],
   "source": [
    "a_Fe_naiveopt = do_analysis(r_Fe_naiveopt, 'Naive, opt.', ftox=(1,-1))"
   ]
  },
  {
   "cell_type": "markdown",
   "metadata": {},
   "source": [
    "# Channel-space methods"
   ]
  },
  {
   "cell_type": "code",
   "execution_count": null,
   "metadata": {},
   "outputs": [],
   "source": [
    "# we need to encode the input state in the POVM effects\n",
    "\n",
    "sigmareal_X_sqrtm_eyeY = np.kron(sigmareal_X.sqrtm().data.toarray(), np.eye(2))\n",
    "Emn_for_channelspace = [\n",
    "    np.dot(np.dot(sigmareal_X_sqrtm_eyeY, E), sigmareal_X_sqrtm_eyeY)\n",
    "    for E in d.Emn\n",
    "]"
   ]
  },
  {
   "cell_type": "markdown",
   "metadata": {},
   "source": [
    "## Channel-space method with $e^{iH}$ jumps"
   ]
  },
  {
   "cell_type": "code",
   "execution_count": null,
   "metadata": {
    "scrolled": false
   },
   "outputs": [],
   "source": [
    "r_eiH = None\n",
    "with tomographer.jpyutil.RandWalkProgressBar() as prg:\n",
    "    r_eiH = dnormtomo.channelspace.run(\n",
    "        dimX=2, dimY=2, Emn=Emn_for_channelspace, Nm=np.array(d.Nm),\n",
    "        hist_params=tomographer.HistogramParams(0, 0.2, 50),\n",
    "        channel_walker_jump_mode=dnormtomo.channelspace.RandHermExp,\n",
    "        mhrw_params=tomographer.MHRWParams(0.01, 100, 2048, 32768),\n",
    "        progress_fn=prg.progress_fn\n",
    "        )\n",
    "    prg.displayFinalInfo(r_eiH['final_report_runs'])\n",
    "print_report(r_eiH)"
   ]
  },
  {
   "cell_type": "code",
   "execution_count": null,
   "metadata": {},
   "outputs": [],
   "source": [
    "a_eiH = do_analysis(r_eiH, 'e^{iH} jumps')"
   ]
  },
  {
   "cell_type": "markdown",
   "metadata": {},
   "source": [
    "## Channel-space method with \"elementary-rotation\" jumps"
   ]
  },
  {
   "cell_type": "code",
   "execution_count": null,
   "metadata": {},
   "outputs": [],
   "source": [
    "r_elr = None\n",
    "with tomographer.jpyutil.RandWalkProgressBar() as prg:\n",
    "    r_elr = dnormtomo.channelspace.run(\n",
    "        dimX=2, dimY=2, Emn=Emn_for_channelspace, Nm=np.array(d.Nm),\n",
    "        hist_params=tomographer.UniformBinsHistogramParams(0, 0.2, 50),\n",
    "        channel_walker_jump_mode=dnormtomo.channelspace.ElemRotations,\n",
    "        mhrw_params=tomographer.MHRWParams(0.02, 50, 2048, 32768),\n",
    "        progress_fn=prg.progress_fn\n",
    "        )\n",
    "    prg.displayFinalInfo(r_elr['final_report_runs'])\n",
    "print_report(r_elr)"
   ]
  },
  {
   "cell_type": "code",
   "execution_count": null,
   "metadata": {},
   "outputs": [],
   "source": [
    "a_elr = do_analysis(r_elr, '\"elem. rotation\" jumps')"
   ]
  },
  {
   "cell_type": "code",
   "execution_count": null,
   "metadata": {
    "scrolled": true
   },
   "outputs": [],
   "source": [
    "r_Fe_elr = None\n",
    "with tomographer.jpyutil.RandWalkProgressBar() as prg:\n",
    "    r_Fe_elr = dnormtomo.channelspace.run(\n",
    "        dimX=2, dimY=2, Emn=Emn_for_channelspace, Nm=np.array(d.Nm),\n",
    "        fig_of_merit='entanglement-fidelity',\n",
    "        hist_params=tomographer.UniformBinsHistogramParams(0.9, 1.0, 50),\n",
    "        channel_walker_jump_mode=dnormtomo.channelspace.ElemRotations,\n",
    "        mhrw_params=tomographer.MHRWParams(0.02, 50, 2048, 32768),\n",
    "        progress_fn=prg.progress_fn\n",
    "        )\n",
    "    prg.displayFinalInfo(r_Fe_elr['final_report_runs'])\n",
    "print_report(r_Fe_elr)"
   ]
  },
  {
   "cell_type": "code",
   "execution_count": null,
   "metadata": {},
   "outputs": [],
   "source": [
    "a_Fe_elr = do_analysis(r_Fe_elr, '\"elem. rotation\" jumps', ftox=(1,-1))"
   ]
  },
  {
   "cell_type": "markdown",
   "metadata": {},
   "source": [
    "# Grand comparison of all methods"
   ]
  },
  {
   "cell_type": "code",
   "execution_count": null,
   "metadata": {},
   "outputs": [],
   "source": [
    "def do_comparison_plot(alist, log_scale=False,\n",
    "                       xlabel='Diamond Norm distance to the identity channel'):\n",
    "\n",
    "    fig = plt.figure()\n",
    "    ax = fig.add_subplot(111)\n",
    "    ax.set_xlabel(xlabel)\n",
    "    ax.set_ylabel('probability density')\n",
    "    if log_scale:\n",
    "        ax.set_yscale('log')\n",
    "    \n",
    "    if (len(alist) == 2):\n",
    "        clist = 'rb'\n",
    "    else:\n",
    "        clist = 'rgbcmyk'\n",
    "        \n",
    "    for i in range(len(alist)):\n",
    "        a = alist[i]\n",
    "        r = a['r']\n",
    "        h = r['final_histogram'].normalized()\n",
    "        c = clist[i%len(clist)]\n",
    "        f = h.values_center\n",
    "        analysis = a['analysis']\n",
    "        \n",
    "        ax.errorbar(x=f, y=h.bins, yerr=h.delta, c=c, fmt='.', label='numerics ({})'.format(a['name']))\n",
    "        flist = np.linspace(np.min(f), np.max(f), 100)\n",
    "        ax.plot(flist, np.exp(analysis.fit_fn(analysis.ftox(flist), *analysis.fit_params)), c=c,\n",
    "                label='fit ({})'.format(a['name']))\n",
    "    \n",
    "    if log_scale:\n",
    "        ax.set_ylim([1e-8, 1e2])\n",
    "        \n",
    "    plt.legend()\n",
    "    plt.show()"
   ]
  },
  {
   "cell_type": "markdown",
   "metadata": {},
   "source": [
    "## diamond norm"
   ]
  },
  {
   "cell_type": "code",
   "execution_count": null,
   "metadata": {},
   "outputs": [],
   "source": [
    "do_comparison_plot([a_naive, a_naiveopt, a_eiH, a_elr])\n",
    "\n",
    "do_comparison_plot([a_naive, a_naiveopt, a_eiH, a_elr], log_scale=True)"
   ]
  },
  {
   "cell_type": "markdown",
   "metadata": {},
   "source": [
    "## entanglement fidelity"
   ]
  },
  {
   "cell_type": "code",
   "execution_count": null,
   "metadata": {},
   "outputs": [],
   "source": [
    "do_comparison_plot([a_Fe_naiveopt, a_Fe_elr], xlabel='Entanglement fidelity')\n",
    "\n",
    "do_comparison_plot([a_Fe_naiveopt, a_Fe_elr], xlabel='Entanglement fidelity', log_scale=True)"
   ]
  },
  {
   "cell_type": "code",
   "execution_count": null,
   "metadata": {},
   "outputs": [],
   "source": [
    "def fit_fn_n2(x, a2, a1, m, p, c):\n",
    "    return -a2*np.square(x)-a1*x - m*np.power(-np.log(x), p) + c\n",
    "\n",
    "r = r_naive\n",
    "a = tomographer.querrorbars.HistogramAnalysis(\n",
    "    r['final_histogram'], fit_fn=fit_fn_n2,\n",
    "    bounds=((0,-np.inf,0,-np.inf,0), np.inf),\n",
    "    p0=(1,1,1,3,50), maxfev=100000,\n",
    ")\n",
    "a.printFitParameters()\n",
    "dp = a.plot(plot_deskewed_gaussian=False, show_plot=False, log_scale=True)\n",
    "dp.ax.set_ylim([1e-8, 1e2])\n",
    "dp.show()\n"
   ]
  },
  {
   "cell_type": "code",
   "execution_count": null,
   "metadata": {},
   "outputs": [],
   "source": []
  }
 ],
 "metadata": {
  "kernelspec": {
   "display_name": "python3-brew",
   "language": "python",
   "name": "python3-brew"
  },
  "language_info": {
   "codemirror_mode": {
    "name": "ipython",
    "version": 3
   },
   "file_extension": ".py",
   "mimetype": "text/x-python",
   "name": "python",
   "nbconvert_exporter": "python",
   "pygments_lexer": "ipython3",
   "version": "3.6.4"
  }
 },
 "nbformat": 4,
 "nbformat_minor": 2
}
