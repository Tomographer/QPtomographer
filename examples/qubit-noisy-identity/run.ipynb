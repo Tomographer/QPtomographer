{
 "cells": [
  {
   "cell_type": "code",
   "execution_count": 1,
   "metadata": {},
   "outputs": [
    {
     "name": "stdout",
     "output_type": "stream",
     "text": [
      "Using dnormtomo version 0.9\n",
      "Using tomographer version v5.3-63-gc51c26e\n"
     ]
    }
   ],
   "source": [
    "import os.path\n",
    "import sys\n",
    "import datetime\n",
    "\n",
    "import numpy as np\n",
    "import matplotlib.pyplot as plt\n",
    "\n",
    "import dnormtomo\n",
    "import dnormtomo.channelspace\n",
    "import dnormtomo.bistates\n",
    "import dnormtomo.util\n",
    "print(\"Using dnormtomo version {}\".format(dnormtomo.__version__))\n",
    "\n",
    "import qutip\n",
    "\n",
    "import tomographer\n",
    "import tomographer.jpyutil\n",
    "import tomographer.querrorbars\n",
    "print(\"Using tomographer version {}\".format(tomographer.__version__))\n",
    "\n",
    "# to save & load computation results\n",
    "try:\n",
    "    import cPickle as pickle\n",
    "except:\n",
    "    import pickle\n",
    "\n",
    "# interact with plots in notebook\n",
    "%matplotlib notebook"
   ]
  },
  {
   "cell_type": "code",
   "execution_count": 2,
   "metadata": {},
   "outputs": [],
   "source": [
    "#\n",
    "# number of outcomes per Pauli pairs\n",
    "#\n",
    "NumSamplesPerSetting = 500\n",
    "# Pauli measurement settings on one system\n",
    "PauliMeasSettings = [\n",
    "    [\n",
    "        dnormtomo.util.projpauli(i, s)\n",
    "        for s in [1, -1]\n",
    "    ]\n",
    "    for i in [1, 2, 3]\n",
    "]\n",
    "# simulate the measurements\n",
    "sigmareal_X = qutip.Qobj(np.array([[ 0.6, 0.01], [0.01, 0.4]]))\n",
    "Ereal_XY = qutip.Qobj(np.array([[ 0.95, 0, 0, 0.95],\n",
    "                                [ 0, 0.05, 0, 0],\n",
    "                                [ 0, 0,    0, 0],\n",
    "                                [ 0.95, 0, 0, 1],\n",
    "                               ]), dims=[[2,2],[2,2]])\n",
    "def simulate_measurements():\n",
    "    d = dnormtomo.util.simulate_process_measurements(sigmareal_X, Ereal_XY, PauliMeasSettings, PauliMeasSettings,\n",
    "                                                     NumSamplesPerSetting)\n",
    "    \n",
    "    with open('meas_data.dat', 'wb') as f:\n",
    "        pickle.dump(d, f)\n",
    "        \n",
    "    return d\n",
    "\n",
    "#\n",
    "# Only simulate the measurements once. After that, use the same data when comparing methods!!\n",
    "#\n",
    "if not os.path.exists('meas_data.dat'):\n",
    "    d = simulate_measurements()\n",
    "else:\n",
    "    with open('meas_data.dat', 'rb') as f:\n",
    "        d = pickle.load(f)\n",
    "\n",
    "#print(d.__dict__) # should print Emn, Nm"
   ]
  },
  {
   "cell_type": "code",
   "execution_count": 3,
   "metadata": {},
   "outputs": [],
   "source": [
    "#\n",
    "# Stuff for the analysis, later\n",
    "#\n",
    "def print_report(r):\n",
    "    print(\"Calculation ran for {!s} seconds\".format(datetime.timedelta(seconds=r['elapsed_seconds'])))\n",
    "    print(r['final_report_runs'])\n",
    "\n",
    "def do_analysis(r, name, plots=False, ftox=(0,1)):\n",
    "    final_histogram = r['final_histogram']\n",
    "    analysis = tomographer.querrorbars.HistogramAnalysis(final_histogram, threshold_fraction=1e-3, ftox=ftox)\n",
    "    fitparams = analysis.printFitParameters()\n",
    "    analysis.printQuantumErrorBars()\n",
    "    \n",
    "    p1 = None\n",
    "    p2 = None\n",
    "    \n",
    "    if plots:\n",
    "        p1 = analysis.plot(show_plot=False) # linear scale\n",
    "        p1.ax.set_title(\"Distribution of the diamond norm: \" + name)\n",
    "        p1.ax.set_xlabel('Diamond Norm distance to the identity channel')\n",
    "        p1.show()\n",
    "\n",
    "        p2 = analysis.plot(log_scale=True, show_plot=False) # log scale\n",
    "        p2.ax.set_title(\"Distribution of the diamond norm: \" + name)\n",
    "        p2.ax.set_xlabel('Diamond Norm distance to the identity channel')\n",
    "        p2.show()\n",
    "    \n",
    "    return {'r': r, 'name': name, 'analysis': analysis, 'fitparams': fitparams, 'p1': p1, 'p2': p2}\n"
   ]
  },
  {
   "cell_type": "markdown",
   "metadata": {},
   "source": [
    "# Naive method"
   ]
  },
  {
   "cell_type": "code",
   "execution_count": 4,
   "metadata": {
    "scrolled": true
   },
   "outputs": [
    {
     "data": {
      "application/vnd.jupyter.widget-view+json": {
       "model_id": "9f101d96f59548f683ac00f290b23180",
       "version_major": 2,
       "version_minor": 0
      },
      "text/html": [
       "<p>Failed to display Jupyter Widget of type <code>VBox</code>.</p>\n",
       "<p>\n",
       "  If you're reading this message in the Jupyter Notebook or JupyterLab Notebook, it may mean\n",
       "  that the widgets JavaScript is still loading. If this message persists, it\n",
       "  likely means that the widgets JavaScript library is either not installed or\n",
       "  not enabled. See the <a href=\"https://ipywidgets.readthedocs.io/en/stable/user_install.html\">Jupyter\n",
       "  Widgets Documentation</a> for setup instructions.\n",
       "</p>\n",
       "<p>\n",
       "  If you're reading this message in another frontend (for example, a static\n",
       "  rendering on GitHub or <a href=\"https://nbviewer.jupyter.org/\">NBViewer</a>),\n",
       "  it may mean that your frontend doesn't currently support widgets.\n",
       "</p>\n"
      ],
      "text/plain": [
       "VBox(children=(HBox(children=(HTML(value='<span style=\"padding-right: 1em;\">Random Walk Progress: </span>'), IntProgress(value=0), HTML(value=''))), HTML(value='')))"
      ]
     },
     "metadata": {},
     "output_type": "display_data"
    },
    {
     "name": "stdout",
     "output_type": "stream",
     "text": [
      "Calculation ran for 0:01:40.717455 seconds\n",
      "\n",
      "                                        Final Report of Runs                                        \n",
      "----------------------------------------------------------------------------------------------------\n",
      "\tstep            : step_size=0.008\n",
      "\t# iter. / sweep = 125\n",
      "\t# therm. sweeps = 2048\n",
      "\t# run sweeps    = 32768\n",
      "#0: 0|        ....-ox####%o+--..........                |0.2                   [accept ratio = 0.30]\n",
      "    error bars: 48 converged / 2 maybe (2 isolated) / 0 not converged\n",
      "#1: 0|       .....-ox####%o+--.........                 |0.2                   [accept ratio = 0.30]\n",
      "    error bars: 50 converged / 0 maybe (0 isolated) / 0 not converged\n",
      "#2: 0|        ....-ox####%o+--.........                 |0.2                   [accept ratio = 0.30]\n",
      "    error bars: 48 converged / 2 maybe (2 isolated) / 0 not converged\n",
      "#3: 0|        ....-ox####xo+--.......                   |0.2                   [accept ratio = 0.30]\n",
      "    error bars: 50 converged / 0 maybe (0 isolated) / 0 not converged\n",
      "#4: 0|        ....-ox####xo+--.......                   |0.2                   [accept ratio = 0.30]\n",
      "    error bars: 50 converged / 0 maybe (0 isolated) / 0 not converged\n",
      "#5: 0|        ....-ox####%o+-.........                  |0.2                   [accept ratio = 0.30]\n",
      "    error bars: 50 converged / 0 maybe (0 isolated) / 0 not converged\n",
      "#6: 0|        ....-ox####%o+--.......                   |0.2                   [accept ratio = 0.30]\n",
      "    error bars: 50 converged / 0 maybe (0 isolated) / 0 not converged\n",
      "#7: 0|        ....-ox%###%o+--........                  |0.2                   [accept ratio = 0.30]\n",
      "    error bars: 49 converged / 1 maybe (1 isolated) / 0 not converged\n",
      "----------------------------------------------------------------------------------------------------\n",
      "\n",
      "\n"
     ]
    }
   ],
   "source": [
    "r_naive = None\n",
    "with tomographer.jpyutil.RandWalkProgressBar() as prg:\n",
    "    r_naive = dnormtomo.bistates.run(\n",
    "        dimX=2, dimY=2, Emn=d.Emn, Nm=np.array(d.Nm),\n",
    "        hist_params=tomographer.HistogramParams(0, 0.2, 50),\n",
    "        mhrw_params=tomographer.MHRWParams(0.008, 125, 2048, 32768),\n",
    "        progress_fn=prg.progress_fn\n",
    "        )\n",
    "    prg.displayFinalInfo(r_naive['final_report_runs'])\n",
    "print_report(r_naive)"
   ]
  },
  {
   "cell_type": "code",
   "execution_count": 5,
   "metadata": {},
   "outputs": [
    {
     "name": "stderr",
     "output_type": "stream",
     "text": [
      "WARNING:tomographer.querrorbars:Reduced chi-squared statistic = 3.713. It could be that the fit model isn't good or that the fit optimization failed.\n"
     ]
    },
    {
     "name": "stdout",
     "output_type": "stream",
     "text": [
      "Fit parameters:\n",
      "          a2 = 8.47085e-17\n",
      "          a1 = 497.087\n",
      "           m = 33.8936\n",
      "           c = 128.442\n",
      "Quantum Error Bars:\n",
      "          f0 = 0.06818\n",
      "       Delta = 0.01656\n",
      "       gamma = 0.001341\n",
      "\n"
     ]
    }
   ],
   "source": [
    "a_naive = do_analysis(r_naive, 'Naive')"
   ]
  },
  {
   "cell_type": "markdown",
   "metadata": {},
   "source": [
    "# Naive method, optimized"
   ]
  },
  {
   "cell_type": "code",
   "execution_count": 6,
   "metadata": {
    "scrolled": true
   },
   "outputs": [
    {
     "data": {
      "application/vnd.jupyter.widget-view+json": {
       "model_id": "baf41d1cc842482fbd60480d12bba65f",
       "version_major": 2,
       "version_minor": 0
      },
      "text/html": [
       "<p>Failed to display Jupyter Widget of type <code>VBox</code>.</p>\n",
       "<p>\n",
       "  If you're reading this message in the Jupyter Notebook or JupyterLab Notebook, it may mean\n",
       "  that the widgets JavaScript is still loading. If this message persists, it\n",
       "  likely means that the widgets JavaScript library is either not installed or\n",
       "  not enabled. See the <a href=\"https://ipywidgets.readthedocs.io/en/stable/user_install.html\">Jupyter\n",
       "  Widgets Documentation</a> for setup instructions.\n",
       "</p>\n",
       "<p>\n",
       "  If you're reading this message in another frontend (for example, a static\n",
       "  rendering on GitHub or <a href=\"https://nbviewer.jupyter.org/\">NBViewer</a>),\n",
       "  it may mean that your frontend doesn't currently support widgets.\n",
       "</p>\n"
      ],
      "text/plain": [
       "VBox(children=(HBox(children=(HTML(value='<span style=\"padding-right: 1em;\">Random Walk Progress: </span>'), IntProgress(value=0), HTML(value=''))), HTML(value='')))"
      ]
     },
     "metadata": {},
     "output_type": "display_data"
    },
    {
     "name": "stdout",
     "output_type": "stream",
     "text": [
      "Calculation ran for 0:01:31.026597 seconds\n",
      "\n",
      "                                        Final Report of Runs                                        \n",
      "----------------------------------------------------------------------------------------------------\n",
      "\tstep            : step_size=0.008\n",
      "\t# iter. / sweep = 512\n",
      "\t# therm. sweeps = 32768\n",
      "\t# run sweeps    = 32768\n",
      "#0: 0|       .....-ox####%o+--.........                 |0.2                   [accept ratio = 0.26]\n",
      "    error bars: 50 converged / 0 maybe (0 isolated) / 0 not converged\n",
      "#1: 0|        ....-+x####%o+--.........                 |0.2                   [accept ratio = 0.26]\n",
      "    error bars: 50 converged / 0 maybe (0 isolated) / 0 not converged\n",
      "#2: 0|        ....-+x####%o+-..........                 |0.2                   [accept ratio = 0.26]\n",
      "    error bars: 48 converged / 2 maybe (2 isolated) / 0 not converged\n",
      "#3: 0|       .....-ox####%o+--.......                   |0.2                   [accept ratio = 0.26]\n",
      "    error bars: 50 converged / 0 maybe (0 isolated) / 0 not converged\n",
      "#4: 0|       .....-ox####%o+--........                  |0.2                   [accept ratio = 0.26]\n",
      "    error bars: 50 converged / 0 maybe (0 isolated) / 0 not converged\n",
      "#5: 0|        ....-ox####%o+-.........                  |0.2                   [accept ratio = 0.26]\n",
      "    error bars: 49 converged / 1 maybe (1 isolated) / 0 not converged\n",
      "#6: 0|        ....-ox####%o+-..........                 |0.2                   [accept ratio = 0.26]\n",
      "    error bars: 50 converged / 0 maybe (0 isolated) / 0 not converged\n",
      "#7: 0|       .....-ox####xo+--........ .                |0.2                   [accept ratio = 0.26]\n",
      "    error bars: 48 converged / 1 maybe (1 isolated) / 1 not converged\n",
      "----------------------------------------------------------------------------------------------------\n",
      "\n",
      "\n"
     ]
    }
   ],
   "source": [
    "r_naiveopt = None\n",
    "with tomographer.jpyutil.RandWalkProgressBar() as prg:\n",
    "    r_naiveopt = dnormtomo.bistates.run(\n",
    "        dimX=2, dimY=2, Emn=d.Emn, Nm=np.array(d.Nm),\n",
    "        hist_params=tomographer.HistogramParams(0, 0.2, 50),\n",
    "        mhrw_params=tomographer.MHRWParams(0.008, 512, 32768, 32768), # thermalize a lot\n",
    "        progress_fn=prg.progress_fn,\n",
    "        jumps_method='light' # use optimized random walk\n",
    "        )\n",
    "    prg.displayFinalInfo(r_naiveopt['final_report_runs'])\n",
    "print_report(r_naiveopt)"
   ]
  },
  {
   "cell_type": "code",
   "execution_count": 7,
   "metadata": {
    "scrolled": true
   },
   "outputs": [
    {
     "name": "stderr",
     "output_type": "stream",
     "text": [
      "WARNING:tomographer.querrorbars:Reduced chi-squared statistic = 2.796. It could be that the fit model isn't good or that the fit optimization failed.\n"
     ]
    },
    {
     "name": "stdout",
     "output_type": "stream",
     "text": [
      "Fit parameters:\n",
      "          a2 = 3.47805e-14\n",
      "          a1 = 499.184\n",
      "           m = 34.0329\n",
      "           c = 128.961\n",
      "Quantum Error Bars:\n",
      "          f0 = 0.06818\n",
      "       Delta = 0.01653\n",
      "       gamma = 0.001336\n",
      "\n"
     ]
    }
   ],
   "source": [
    "a_naiveopt = do_analysis(r_naiveopt, 'Naive, opt.')"
   ]
  },
  {
   "cell_type": "markdown",
   "metadata": {},
   "source": [
    "# Naive method, optimized, entanglement fidelity"
   ]
  },
  {
   "cell_type": "code",
   "execution_count": 8,
   "metadata": {
    "scrolled": true
   },
   "outputs": [
    {
     "data": {
      "application/vnd.jupyter.widget-view+json": {
       "model_id": "5e416a0514ec48418093be9a0fdaecaf",
       "version_major": 2,
       "version_minor": 0
      },
      "text/html": [
       "<p>Failed to display Jupyter Widget of type <code>VBox</code>.</p>\n",
       "<p>\n",
       "  If you're reading this message in the Jupyter Notebook or JupyterLab Notebook, it may mean\n",
       "  that the widgets JavaScript is still loading. If this message persists, it\n",
       "  likely means that the widgets JavaScript library is either not installed or\n",
       "  not enabled. See the <a href=\"https://ipywidgets.readthedocs.io/en/stable/user_install.html\">Jupyter\n",
       "  Widgets Documentation</a> for setup instructions.\n",
       "</p>\n",
       "<p>\n",
       "  If you're reading this message in another frontend (for example, a static\n",
       "  rendering on GitHub or <a href=\"https://nbviewer.jupyter.org/\">NBViewer</a>),\n",
       "  it may mean that your frontend doesn't currently support widgets.\n",
       "</p>\n"
      ],
      "text/plain": [
       "VBox(children=(HBox(children=(HTML(value='<span style=\"padding-right: 1em;\">Random Walk Progress: </span>'), IntProgress(value=0), HTML(value=''))), HTML(value='')))"
      ]
     },
     "metadata": {},
     "output_type": "display_data"
    },
    {
     "name": "stdout",
     "output_type": "stream",
     "text": [
      "Calculation ran for 0:00:16.408856 seconds\n",
      "\n",
      "                                        Final Report of Runs                                        \n",
      "----------------------------------------------------------------------------------------------------\n",
      "\tstep            : step_size=0.008\n",
      "\t# iter. / sweep = 512\n",
      "\t# therm. sweeps = 32768\n",
      "\t# run sweeps    = 32768\n",
      "#0: 0.9|            .........--ox%####%o+-......          |1                   [accept ratio = 0.26]\n",
      "    error bars: 49 converged / 1 maybe (1 isolated) / 0 not converged\n",
      "#1: 0.9|            .........-++x%####%o+-.....           |1                   [accept ratio = 0.26]\n",
      "    error bars: 48 converged / 2 maybe (2 isolated) / 0 not converged\n",
      "#2: 0.9|         . ..........-++x%####%o+-......          |1                   [accept ratio = 0.26]\n",
      "    error bars: 50 converged / 0 maybe (0 isolated) / 0 not converged\n",
      "#3: 0.9|           ..........-++x%####%o+-......          |1                   [accept ratio = 0.26]\n",
      "    error bars: 50 converged / 0 maybe (0 isolated) / 0 not converged\n",
      "#4: 0.9|           ..........-++x%####%o+-......          |1                   [accept ratio = 0.26]\n",
      "    error bars: 50 converged / 0 maybe (0 isolated) / 0 not converged\n",
      "#5: 0.9|           ..........-+ox%####%o+-.....           |1                   [accept ratio = 0.28]\n",
      "    error bars: 48 converged / 2 maybe (2 isolated) / 0 not converged\n",
      "#6: 0.9|         . ..........--ox%####%o+-......          |1                   [accept ratio = 0.27]\n",
      "    error bars: 49 converged / 1 maybe (1 isolated) / 0 not converged\n",
      "#7: 0.9|         .  .........-++x%####%o+-.....           |1                   [accept ratio = 0.26]\n",
      "    error bars: 48 converged / 2 maybe (2 isolated) / 0 not converged\n",
      "----------------------------------------------------------------------------------------------------\n",
      "\n",
      "\n"
     ]
    }
   ],
   "source": [
    "r_Fe_naiveopt = None\n",
    "with tomographer.jpyutil.RandWalkProgressBar() as prg:\n",
    "    r_Fe_naiveopt = dnormtomo.bistates.run(\n",
    "        dimX=2, dimY=2, Emn=d.Emn, Nm=np.array(d.Nm),\n",
    "        fig_of_merit='entanglement-fidelity',\n",
    "        hist_params=tomographer.HistogramParams(0.9, 1.0, 50),\n",
    "        mhrw_params=tomographer.MHRWParams(0.008, 512, 32768, 32768), # thermalize a lot\n",
    "        progress_fn=prg.progress_fn,\n",
    "        jumps_method='light' # use optimized random walk\n",
    "        )\n",
    "    prg.displayFinalInfo(r_Fe_naiveopt['final_report_runs'])\n",
    "print_report(r_Fe_naiveopt)"
   ]
  },
  {
   "cell_type": "code",
   "execution_count": 9,
   "metadata": {
    "scrolled": true
   },
   "outputs": [
    {
     "name": "stdout",
     "output_type": "stream",
     "text": [
      "Fit parameters:\n",
      "          a2 = 1665.52\n",
      "          a1 = 686.036\n",
      "           m = 36.4869\n",
      "           c = 151.467\n",
      "Quantum Error Bars:\n",
      "          f0 = 0.9562\n",
      "       Delta = 0.009469\n",
      "       gamma = 0.0005798\n",
      "\n"
     ]
    }
   ],
   "source": [
    "a_Fe_naiveopt = do_analysis(r_Fe_naiveopt, 'Naive, opt.', ftox=(1,-1))"
   ]
  },
  {
   "cell_type": "markdown",
   "metadata": {},
   "source": [
    "# Channel-space methods"
   ]
  },
  {
   "cell_type": "code",
   "execution_count": 10,
   "metadata": {},
   "outputs": [],
   "source": [
    "# we need to encode the input state in the POVM effects\n",
    "\n",
    "sigmareal_X_sqrtm_eyeY = np.kron(sigmareal_X.sqrtm().data.toarray(), np.eye(2))\n",
    "Emn_for_channelspace = [\n",
    "    np.dot(np.dot(sigmareal_X_sqrtm_eyeY, E), sigmareal_X_sqrtm_eyeY)\n",
    "    for E in d.Emn\n",
    "]"
   ]
  },
  {
   "cell_type": "markdown",
   "metadata": {},
   "source": [
    "## Channel-space method with $e^{iH}$ jumps"
   ]
  },
  {
   "cell_type": "code",
   "execution_count": 11,
   "metadata": {
    "scrolled": true
   },
   "outputs": [
    {
     "data": {
      "application/vnd.jupyter.widget-view+json": {
       "model_id": "409f4bc10cd94a369e4035c78e8e55c0",
       "version_major": 2,
       "version_minor": 0
      },
      "text/html": [
       "<p>Failed to display Jupyter Widget of type <code>VBox</code>.</p>\n",
       "<p>\n",
       "  If you're reading this message in the Jupyter Notebook or JupyterLab Notebook, it may mean\n",
       "  that the widgets JavaScript is still loading. If this message persists, it\n",
       "  likely means that the widgets JavaScript library is either not installed or\n",
       "  not enabled. See the <a href=\"https://ipywidgets.readthedocs.io/en/stable/user_install.html\">Jupyter\n",
       "  Widgets Documentation</a> for setup instructions.\n",
       "</p>\n",
       "<p>\n",
       "  If you're reading this message in another frontend (for example, a static\n",
       "  rendering on GitHub or <a href=\"https://nbviewer.jupyter.org/\">NBViewer</a>),\n",
       "  it may mean that your frontend doesn't currently support widgets.\n",
       "</p>\n"
      ],
      "text/plain": [
       "VBox(children=(HBox(children=(HTML(value='<span style=\"padding-right: 1em;\">Random Walk Progress: </span>'), IntProgress(value=0), HTML(value=''))), HTML(value='')))"
      ]
     },
     "metadata": {},
     "output_type": "display_data"
    },
    {
     "name": "stdout",
     "output_type": "stream",
     "text": [
      "Calculation ran for 0:04:12.121016 seconds\n",
      "\n",
      "                                        Final Report of Runs                                        \n",
      "----------------------------------------------------------------------------------------------------\n",
      "\tstep            : step_size=0.01\n",
      "\t# iter. / sweep = 100\n",
      "\t# therm. sweeps = 2048\n",
      "\t# run sweeps    = 32768\n",
      "#0: 0|        ....-+x%###%o+--.......                   |0.2                   [accept ratio = 0.31]\n",
      "    error bars: 50 converged / 0 maybe (0 isolated) / 0 not converged\n",
      "#1: 0|       .....-+x####%o+--.......                   |0.2                   [accept ratio = 0.31]\n",
      "    error bars: 49 converged / 1 maybe (1 isolated) / 0 not converged\n",
      "#2: 0|        ....-+x%###%o+--.........                 |0.2                   [accept ratio = 0.31]\n",
      "    error bars: 50 converged / 0 maybe (0 isolated) / 0 not converged\n",
      "#3: 0|       .....-+x####%x+--.........                 |0.2                   [accept ratio = 0.31]\n",
      "    error bars: 49 converged / 1 maybe (1 isolated) / 0 not converged\n",
      "#4: 0|        ....-+x%###%o+--........                  |0.2                   [accept ratio = 0.31]\n",
      "    error bars: 50 converged / 0 maybe (0 isolated) / 0 not converged\n",
      "#5: 0|       .....-+x%###%o+--.........                 |0.2                   [accept ratio = 0.31]\n",
      "    error bars: 48 converged / 2 maybe (2 isolated) / 0 not converged\n",
      "#6: 0|        ....-+x%###%x+--.......                   |0.2                   [accept ratio = 0.31]\n",
      "    error bars: 50 converged / 0 maybe (0 isolated) / 0 not converged\n",
      "#7: 0|       .....-+x####%x+--........                  |0.2                   [accept ratio = 0.31]\n",
      "    error bars: 49 converged / 0 maybe (0 isolated) / 1 not converged\n",
      "----------------------------------------------------------------------------------------------------\n",
      "\n",
      "\n"
     ]
    }
   ],
   "source": [
    "r_eiH = None\n",
    "with tomographer.jpyutil.RandWalkProgressBar() as prg:\n",
    "    r_eiH = dnormtomo.channelspace.run(\n",
    "        dimX=2, dimY=2, Emn=Emn_for_channelspace, Nm=np.array(d.Nm),\n",
    "        hist_params=tomographer.HistogramParams(0, 0.2, 50),\n",
    "        channel_walker_jump_mode=dnormtomo.channelspace.RandHermExp,\n",
    "        mhrw_params=tomographer.MHRWParams(0.01, 100, 2048, 32768),\n",
    "        progress_fn=prg.progress_fn\n",
    "        )\n",
    "    prg.displayFinalInfo(r_eiH['final_report_runs'])\n",
    "print_report(r_eiH)"
   ]
  },
  {
   "cell_type": "code",
   "execution_count": 12,
   "metadata": {},
   "outputs": [
    {
     "name": "stderr",
     "output_type": "stream",
     "text": [
      "WARNING:tomographer.querrorbars:Reduced chi-squared statistic = 2.195. It could be that the fit model isn't good or that the fit optimization failed.\n"
     ]
    },
    {
     "name": "stdout",
     "output_type": "stream",
     "text": [
      "Fit parameters:\n",
      "          a2 = 1.02126e-18\n",
      "          a1 = 497.806\n",
      "           m = 34.1819\n",
      "           c = 129.262\n",
      "Quantum Error Bars:\n",
      "          f0 = 0.06867\n",
      "       Delta = 0.01661\n",
      "       gamma = 0.001339\n",
      "\n"
     ]
    }
   ],
   "source": [
    "a_eiH = do_analysis(r_eiH, 'e^{iH} jumps')"
   ]
  },
  {
   "cell_type": "markdown",
   "metadata": {},
   "source": [
    "## Channel-space method with \"elementary-rotation\" jumps"
   ]
  },
  {
   "cell_type": "code",
   "execution_count": 13,
   "metadata": {},
   "outputs": [
    {
     "data": {
      "application/vnd.jupyter.widget-view+json": {
       "model_id": "fc93bb9588844055b35306998f30712b",
       "version_major": 2,
       "version_minor": 0
      },
      "text/html": [
       "<p>Failed to display Jupyter Widget of type <code>VBox</code>.</p>\n",
       "<p>\n",
       "  If you're reading this message in the Jupyter Notebook or JupyterLab Notebook, it may mean\n",
       "  that the widgets JavaScript is still loading. If this message persists, it\n",
       "  likely means that the widgets JavaScript library is either not installed or\n",
       "  not enabled. See the <a href=\"https://ipywidgets.readthedocs.io/en/stable/user_install.html\">Jupyter\n",
       "  Widgets Documentation</a> for setup instructions.\n",
       "</p>\n",
       "<p>\n",
       "  If you're reading this message in another frontend (for example, a static\n",
       "  rendering on GitHub or <a href=\"https://nbviewer.jupyter.org/\">NBViewer</a>),\n",
       "  it may mean that your frontend doesn't currently support widgets.\n",
       "</p>\n"
      ],
      "text/plain": [
       "VBox(children=(HBox(children=(HTML(value='<span style=\"padding-right: 1em;\">Random Walk Progress: </span>'), IntProgress(value=0), HTML(value=''))), HTML(value='')))"
      ]
     },
     "metadata": {},
     "output_type": "display_data"
    },
    {
     "name": "stdout",
     "output_type": "stream",
     "text": [
      "Calculation ran for 0:02:35.309780 seconds\n",
      "\n",
      "                                        Final Report of Runs                                        \n",
      "----------------------------------------------------------------------------------------------------\n",
      "\tstep            : step_size=0.02\n",
      "\t# iter. / sweep = 50\n",
      "\t# therm. sweeps = 2048\n",
      "\t# run sweeps    = 32768\n",
      "#0: 0|        ....-+x####%x+--.......                   |0.2                   [accept ratio = 0.24]\n",
      "    error bars: 49 converged / 1 maybe (1 isolated) / 0 not converged\n",
      "#1: 0|        ....-+x####%o+--........                  |0.2                   [accept ratio = 0.24]\n",
      "    error bars: 50 converged / 0 maybe (0 isolated) / 0 not converged\n",
      "#2: 0|        ....-+x%###%o+--........   .              |0.2                   [accept ratio = 0.24]\n",
      "    error bars: 50 converged / 0 maybe (0 isolated) / 0 not converged\n",
      "#3: 0|       .....-+x%###%x+--.......                   |0.2                   [accept ratio = 0.24]\n",
      "    error bars: 49 converged / 1 maybe (1 isolated) / 0 not converged\n",
      "#4: 0|        ....-+x%###%o+--.......                   |0.2                   [accept ratio = 0.24]\n",
      "    error bars: 50 converged / 0 maybe (0 isolated) / 0 not converged\n",
      "#5: 0|       .....-+x%###%x+--.......                   |0.2                   [accept ratio = 0.24]\n",
      "    error bars: 48 converged / 2 maybe (2 isolated) / 0 not converged\n",
      "#6: 0|       .....-+x####%x+--.........                 |0.2                   [accept ratio = 0.24]\n",
      "    error bars: 50 converged / 0 maybe (0 isolated) / 0 not converged\n",
      "#7: 0|        ....-+x%###%o+--.........                 |0.2                   [accept ratio = 0.24]\n",
      "    error bars: 49 converged / 0 maybe (0 isolated) / 1 not converged\n",
      "----------------------------------------------------------------------------------------------------\n",
      "\n",
      "\n"
     ]
    }
   ],
   "source": [
    "r_elr = None\n",
    "with tomographer.jpyutil.RandWalkProgressBar() as prg:\n",
    "    r_elr = dnormtomo.channelspace.run(\n",
    "        dimX=2, dimY=2, Emn=Emn_for_channelspace, Nm=np.array(d.Nm),\n",
    "        hist_params=tomographer.UniformBinsHistogramParams(0, 0.2, 50),\n",
    "        channel_walker_jump_mode=dnormtomo.channelspace.ElemRotations,\n",
    "        mhrw_params=tomographer.MHRWParams(0.02, 50, 2048, 32768),\n",
    "        progress_fn=prg.progress_fn\n",
    "        )\n",
    "    prg.displayFinalInfo(r_elr['final_report_runs'])\n",
    "print_report(r_elr)"
   ]
  },
  {
   "cell_type": "code",
   "execution_count": 14,
   "metadata": {},
   "outputs": [
    {
     "name": "stderr",
     "output_type": "stream",
     "text": [
      "WARNING:tomographer.querrorbars:Reduced chi-squared statistic = 2.189. It could be that the fit model isn't good or that the fit optimization failed.\n"
     ]
    },
    {
     "name": "stdout",
     "output_type": "stream",
     "text": [
      "Fit parameters:\n",
      "          a2 = 30.2675\n",
      "          a1 = 485.751\n",
      "           m = 33.6539\n",
      "           c = 127.159\n",
      "Quantum Error Bars:\n",
      "          f0 = 0.06869\n",
      "       Delta = 0.01668\n",
      "       gamma = 0.001338\n",
      "\n"
     ]
    }
   ],
   "source": [
    "a_elr = do_analysis(r_elr, '\"elem. rotation\" jumps')"
   ]
  },
  {
   "cell_type": "markdown",
   "metadata": {},
   "source": [
    "## Channel-space method with \"elementary-rotation\" jumps, entanglement fidelity"
   ]
  },
  {
   "cell_type": "code",
   "execution_count": 15,
   "metadata": {
    "scrolled": true
   },
   "outputs": [
    {
     "data": {
      "application/vnd.jupyter.widget-view+json": {
       "model_id": "ab03c83d056340bc8c0e7077a21d5028",
       "version_major": 2,
       "version_minor": 0
      },
      "text/html": [
       "<p>Failed to display Jupyter Widget of type <code>VBox</code>.</p>\n",
       "<p>\n",
       "  If you're reading this message in the Jupyter Notebook or JupyterLab Notebook, it may mean\n",
       "  that the widgets JavaScript is still loading. If this message persists, it\n",
       "  likely means that the widgets JavaScript library is either not installed or\n",
       "  not enabled. See the <a href=\"https://ipywidgets.readthedocs.io/en/stable/user_install.html\">Jupyter\n",
       "  Widgets Documentation</a> for setup instructions.\n",
       "</p>\n",
       "<p>\n",
       "  If you're reading this message in another frontend (for example, a static\n",
       "  rendering on GitHub or <a href=\"https://nbviewer.jupyter.org/\">NBViewer</a>),\n",
       "  it may mean that your frontend doesn't currently support widgets.\n",
       "</p>\n"
      ],
      "text/plain": [
       "VBox(children=(HBox(children=(HTML(value='<span style=\"padding-right: 1em;\">Random Walk Progress: </span>'), IntProgress(value=0), HTML(value=''))), HTML(value='')))"
      ]
     },
     "metadata": {},
     "output_type": "display_data"
    },
    {
     "name": "stdout",
     "output_type": "stream",
     "text": [
      "Calculation ran for 0:01:09.102434 seconds\n",
      "\n",
      "                                        Final Report of Runs                                        \n",
      "----------------------------------------------------------------------------------------------------\n",
      "\tstep            : step_size=0.02\n",
      "\t# iter. / sweep = 50\n",
      "\t# therm. sweeps = 2048\n",
      "\t# run sweeps    = 32768\n",
      "#0: 0.9|            .........--+ox%###%xo--....           |1                   [accept ratio = 0.24]\n",
      "    error bars: 49 converged / 1 maybe (1 isolated) / 0 not converged\n",
      "#1: 0.9|            .........--+ox%###%xo-......          |1                   [accept ratio = 0.24]\n",
      "    error bars: 49 converged / 1 maybe (1 isolated) / 0 not converged\n",
      "#2: 0.9|            .........--+o%%###%xo+-.....          |1                   [accept ratio = 0.24]\n",
      "    error bars: 49 converged / 1 maybe (1 isolated) / 0 not converged\n",
      "#3: 0.9|          .. ........--+ox####%xo-.......         |1                   [accept ratio = 0.24]\n",
      "    error bars: 49 converged / 1 maybe (1 isolated) / 0 not converged\n",
      "#4: 0.9|          .   .......--+ox%###%xo--.....          |1                   [accept ratio = 0.24]\n",
      "    error bars: 48 converged / 1 maybe (1 isolated) / 1 not converged\n",
      "#5: 0.9|            .........--+ox%###%xo--....           |1                   [accept ratio = 0.24]\n",
      "    error bars: 49 converged / 1 maybe (1 isolated) / 0 not converged\n",
      "#6: 0.9|          . ..........-+ox%###%x+-......          |1                   [accept ratio = 0.24]\n",
      "    error bars: 50 converged / 0 maybe (0 isolated) / 0 not converged\n",
      "#7: 0.9|           ..........--+ox%###%xo--......         |1                   [accept ratio = 0.24]\n",
      "    error bars: 49 converged / 1 maybe (1 isolated) / 0 not converged\n",
      "----------------------------------------------------------------------------------------------------\n",
      "\n",
      "\n"
     ]
    }
   ],
   "source": [
    "r_Fe_elr = None\n",
    "with tomographer.jpyutil.RandWalkProgressBar() as prg:\n",
    "    r_Fe_elr = dnormtomo.channelspace.run(\n",
    "        dimX=2, dimY=2, Emn=Emn_for_channelspace, Nm=np.array(d.Nm),\n",
    "        fig_of_merit='entanglement-fidelity',\n",
    "        hist_params=tomographer.UniformBinsHistogramParams(0.9, 1.0, 50),\n",
    "        channel_walker_jump_mode=dnormtomo.channelspace.ElemRotations,\n",
    "        mhrw_params=tomographer.MHRWParams(0.02, 50, 2048, 32768),\n",
    "        progress_fn=prg.progress_fn\n",
    "        )\n",
    "    prg.displayFinalInfo(r_Fe_elr['final_report_runs'])\n",
    "print_report(r_Fe_elr)"
   ]
  },
  {
   "cell_type": "code",
   "execution_count": 16,
   "metadata": {},
   "outputs": [
    {
     "name": "stdout",
     "output_type": "stream",
     "text": [
      "Fit parameters:\n",
      "          a2 = 1396.85\n",
      "          a1 = 730.667\n",
      "           m = 36.5113\n",
      "           c = 152.981\n",
      "Quantum Error Bars:\n",
      "          f0 = 0.9571\n",
      "       Delta = 0.009405\n",
      "       gamma = 0.000602\n",
      "\n"
     ]
    }
   ],
   "source": [
    "a_Fe_elr = do_analysis(r_Fe_elr, '\"elem. rotation\" jumps', ftox=(1,-1))"
   ]
  },
  {
   "cell_type": "markdown",
   "metadata": {},
   "source": [
    "# Grand comparison of all methods"
   ]
  },
  {
   "cell_type": "code",
   "execution_count": 17,
   "metadata": {},
   "outputs": [],
   "source": [
    "def do_comparison_plot(alist, log_scale=False,\n",
    "                       xlabel='Diamond Norm distance to the identity channel'):\n",
    "\n",
    "    fig = plt.figure()\n",
    "    ax = fig.add_subplot(111)\n",
    "    ax.set_xlabel(xlabel)\n",
    "    ax.set_ylabel('probability density')\n",
    "    if log_scale:\n",
    "        ax.set_yscale('log')\n",
    "    \n",
    "    if (len(alist) == 2):\n",
    "        clist = 'rb'\n",
    "    else:\n",
    "        clist = 'rgbcmyk'\n",
    "        \n",
    "    for i in range(len(alist)):\n",
    "        a = alist[i]\n",
    "        r = a['r']\n",
    "        h = r['final_histogram'].normalized()\n",
    "        c = clist[i%len(clist)]\n",
    "        f = h.values_center\n",
    "        analysis = a['analysis']\n",
    "        \n",
    "        ax.errorbar(x=f, y=h.bins, yerr=h.delta, c=c, fmt='.', label='numerics ({})'.format(a['name']))\n",
    "        flist = np.linspace(np.min(f), np.max(f), 100)\n",
    "        ax.plot(flist, np.exp(analysis.fit_fn(analysis.ftox(flist), *analysis.fit_params)), c=c,\n",
    "                label='fit ({})'.format(a['name']))\n",
    "    \n",
    "    if log_scale:\n",
    "        ax.set_ylim([1e-8, 1e2])\n",
    "        \n",
    "    plt.legend()\n",
    "    plt.show()"
   ]
  },
  {
   "cell_type": "markdown",
   "metadata": {},
   "source": [
    "## diamond norm"
   ]
  },
  {
   "cell_type": "code",
   "execution_count": 18,
   "metadata": {},
   "outputs": [
    {
     "data": {
      "image/png": "[encoded data removed]",
      "text/plain": [
       "<matplotlib.figure.Figure at 0x10c59ed30>"
      ]
     },
     "metadata": {},
     "output_type": "display_data"
    },
    {
     "data": {
      "image/png": "[encoded data removed]",
      "text/plain": [
       "<matplotlib.figure.Figure at 0x10c59ed68>"
      ]
     },
     "metadata": {},
     "output_type": "display_data"
    }
   ],
   "source": [
    "do_comparison_plot([a_naive, a_naiveopt, a_eiH, a_elr])\n",
    "\n",
    "do_comparison_plot([a_naive, a_naiveopt, a_eiH, a_elr], log_scale=True)"
   ]
  },
  {
   "cell_type": "markdown",
   "metadata": {},
   "source": [
    "## entanglement fidelity"
   ]
  },
  {
   "cell_type": "code",
   "execution_count": 19,
   "metadata": {},
   "outputs": [
    {
     "data": {
      "image/png": "[encoded data removed]",
      "text/plain": [
       "<matplotlib.figure.Figure at 0x10c6d2e10>"
      ]
     },
     "metadata": {},
     "output_type": "display_data"
    },
    {
     "data": {
      "image/png": "[encoded data removed]",
      "text/plain": [
       "<matplotlib.figure.Figure at 0x10c6d2470>"
      ]
     },
     "metadata": {},
     "output_type": "display_data"
    }
   ],
   "source": [
    "do_comparison_plot([a_Fe_naiveopt, a_Fe_elr], xlabel='Entanglement fidelity')\n",
    "\n",
    "do_comparison_plot([a_Fe_naiveopt, a_Fe_elr], xlabel='Entanglement fidelity', log_scale=True)"
   ]
  },
  {
   "cell_type": "code",
   "execution_count": 20,
   "metadata": {},
   "outputs": [
    {
     "name": "stdout",
     "output_type": "stream",
     "text": [
      "Fit parameters:\n",
      "          a2 = 1224.55\n",
      "          a1 = -38.8635\n",
      "           m = 0.0335274\n",
      "           p = 4.99511\n",
      "           c = 11.2246\n"
     ]
    },
    {
     "data": {
      "image/png": "[encoded data removed]",
      "text/plain": [
       "<matplotlib.figure.Figure at 0x10cafcef0>"
      ]
     },
     "metadata": {},
     "output_type": "display_data"
    }
   ],
   "source": [
    "def fit_fn_n2(x, a2, a1, m, p, c):\n",
    "    return -a2*np.square(x)-a1*x - m*np.power(-np.log(x), p) + c\n",
    "\n",
    "r = r_naive\n",
    "a = tomographer.querrorbars.HistogramAnalysis(\n",
    "    r['final_histogram'], fit_fn=fit_fn_n2,\n",
    "    bounds=((0,-np.inf,0,-np.inf,0), np.inf),\n",
    "    p0=(1,1,1,3,50), maxfev=100000,\n",
    ")\n",
    "a.printFitParameters()\n",
    "dp = a.plot(plot_deskewed_gaussian=False, show_plot=False, log_scale=True)\n",
    "dp.ax.set_ylim([1e-8, 1e2])\n",
    "dp.show()\n"
   ]
  },
  {
   "cell_type": "code",
   "execution_count": null,
   "metadata": {},
   "outputs": [],
   "source": []
  }
 ],
 "metadata": {
  "kernelspec": {
   "display_name": "python3-brew",
   "language": "python",
   "name": "python3-brew"
  },
  "language_info": {
   "codemirror_mode": {
    "name": "ipython",
    "version": 3
   },
   "file_extension": ".py",
   "mimetype": "text/x-python",
   "name": "python",
   "nbconvert_exporter": "python",
   "pygments_lexer": "ipython3",
   "version": "3.6.4"
  }
 },
 "nbformat": 4,
 "nbformat_minor": 2
}
